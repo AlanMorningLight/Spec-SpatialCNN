{
  "nbformat": 4,
  "nbformat_minor": 0,
  "metadata": {
    "colab": {
      "name": "HIS_cnn.ipynb",
      "version": "0.3.2",
      "provenance": []
    },
    "kernelspec": {
      "name": "python3",
      "display_name": "Python 3"
    },
    "accelerator": "GPU"
  },
  "cells": [
    {
      "cell_type": "code",
      "metadata": {
        "id": "wh5cCbl3_lAA",
        "colab_type": "code",
        "outputId": "10f644e6-51c6-492c-ee4e-7c14989902a4",
        "colab": {
          "base_uri": "https://localhost:8080/",
          "height": 604
        }
      },
      "source": [
        "#https://drive.google.com/open?id=1jgg7I6tLqB6ahus-g1GKCmEpyv7dceOC\n",
        "!pip install PyDrive\n",
        "!pip install hpelm\n",
        "\n",
        "import os                                  # to access google drive as bigger files are downloaded from there\n",
        "from pydrive.auth import GoogleAuth\n",
        "from pydrive.drive import GoogleDrive\n",
        "from google.colab import auth\n",
        "from oauth2client.client import GoogleCredentials"
      ],
      "execution_count": 0,
      "outputs": [
        {
          "output_type": "stream",
          "text": [
            "Collecting PyDrive\n",
            "\u001b[?25l  Downloading https://files.pythonhosted.org/packages/52/e0/0e64788e5dd58ce2d6934549676243dc69d982f198524be9b99e9c2a4fd5/PyDrive-1.3.1.tar.gz (987kB)\n",
            "\r\u001b[K     |▎                               | 10kB 15.1MB/s eta 0:00:01\r\u001b[K     |▋                               | 20kB 19.9MB/s eta 0:00:01\r\u001b[K     |█                               | 30kB 22.5MB/s eta 0:00:01\r\u001b[K     |█▎                              | 40kB 25.7MB/s eta 0:00:01\r\u001b[K     |█▋                              | 51kB 27.1MB/s eta 0:00:01\r\u001b[K     |██                              | 61kB 29.1MB/s eta 0:00:01\r\u001b[K     |██▎                             | 71kB 29.8MB/s eta 0:00:01\r\u001b[K     |██▋                             | 81kB 30.1MB/s eta 0:00:01\r\u001b[K     |███                             | 92kB 31.0MB/s eta 0:00:01\r\u001b[K     |███▎                            | 102kB 31.8MB/s eta 0:00:01\r\u001b[K     |███▋                            | 112kB 31.8MB/s eta 0:00:01\r\u001b[K     |████                            | 122kB 31.8MB/s eta 0:00:01\r\u001b[K     |████▎                           | 133kB 31.8MB/s eta 0:00:01\r\u001b[K     |████▋                           | 143kB 31.8MB/s eta 0:00:01\r\u001b[K     |█████                           | 153kB 31.8MB/s eta 0:00:01\r\u001b[K     |█████▎                          | 163kB 31.8MB/s eta 0:00:01\r\u001b[K     |█████▋                          | 174kB 31.8MB/s eta 0:00:01\r\u001b[K     |██████                          | 184kB 31.8MB/s eta 0:00:01\r\u001b[K     |██████▎                         | 194kB 31.8MB/s eta 0:00:01\r\u001b[K     |██████▋                         | 204kB 31.8MB/s eta 0:00:01\r\u001b[K     |███████                         | 215kB 31.8MB/s eta 0:00:01\r\u001b[K     |███████▎                        | 225kB 31.8MB/s eta 0:00:01\r\u001b[K     |███████▋                        | 235kB 31.8MB/s eta 0:00:01\r\u001b[K     |████████                        | 245kB 31.8MB/s eta 0:00:01\r\u001b[K     |████████▎                       | 256kB 31.8MB/s eta 0:00:01\r\u001b[K     |████████▋                       | 266kB 31.8MB/s eta 0:00:01\r\u001b[K     |█████████                       | 276kB 31.8MB/s eta 0:00:01\r\u001b[K     |█████████▎                      | 286kB 31.8MB/s eta 0:00:01\r\u001b[K     |█████████▋                      | 296kB 31.8MB/s eta 0:00:01\r\u001b[K     |██████████                      | 307kB 31.8MB/s eta 0:00:01\r\u001b[K     |██████████▎                     | 317kB 31.8MB/s eta 0:00:01\r\u001b[K     |██████████▋                     | 327kB 31.8MB/s eta 0:00:01\r\u001b[K     |███████████                     | 337kB 31.8MB/s eta 0:00:01\r\u001b[K     |███████████▎                    | 348kB 31.8MB/s eta 0:00:01\r\u001b[K     |███████████▋                    | 358kB 31.8MB/s eta 0:00:01\r\u001b[K     |████████████                    | 368kB 31.8MB/s eta 0:00:01\r\u001b[K     |████████████▎                   | 378kB 31.8MB/s eta 0:00:01\r\u001b[K     |████████████▋                   | 389kB 31.8MB/s eta 0:00:01\r\u001b[K     |█████████████                   | 399kB 31.8MB/s eta 0:00:01\r\u001b[K     |█████████████▎                  | 409kB 31.8MB/s eta 0:00:01\r\u001b[K     |█████████████▋                  | 419kB 31.8MB/s eta 0:00:01\r\u001b[K     |██████████████                  | 430kB 31.8MB/s eta 0:00:01\r\u001b[K     |██████████████▎                 | 440kB 31.8MB/s eta 0:00:01\r\u001b[K     |██████████████▋                 | 450kB 31.8MB/s eta 0:00:01\r\u001b[K     |███████████████                 | 460kB 31.8MB/s eta 0:00:01\r\u001b[K     |███████████████▎                | 471kB 31.8MB/s eta 0:00:01\r\u001b[K     |███████████████▋                | 481kB 31.8MB/s eta 0:00:01\r\u001b[K     |████████████████                | 491kB 31.8MB/s eta 0:00:01\r\u001b[K     |████████████████▎               | 501kB 31.8MB/s eta 0:00:01\r\u001b[K     |████████████████▋               | 512kB 31.8MB/s eta 0:00:01\r\u001b[K     |█████████████████               | 522kB 31.8MB/s eta 0:00:01\r\u001b[K     |█████████████████▎              | 532kB 31.8MB/s eta 0:00:01\r\u001b[K     |█████████████████▋              | 542kB 31.8MB/s eta 0:00:01\r\u001b[K     |██████████████████              | 552kB 31.8MB/s eta 0:00:01\r\u001b[K     |██████████████████▎             | 563kB 31.8MB/s eta 0:00:01\r\u001b[K     |██████████████████▋             | 573kB 31.8MB/s eta 0:00:01\r\u001b[K     |███████████████████             | 583kB 31.8MB/s eta 0:00:01\r\u001b[K     |███████████████████▎            | 593kB 31.8MB/s eta 0:00:01\r\u001b[K     |███████████████████▋            | 604kB 31.8MB/s eta 0:00:01\r\u001b[K     |████████████████████            | 614kB 31.8MB/s eta 0:00:01\r\u001b[K     |████████████████████▎           | 624kB 31.8MB/s eta 0:00:01\r\u001b[K     |████████████████████▋           | 634kB 31.8MB/s eta 0:00:01\r\u001b[K     |█████████████████████           | 645kB 31.8MB/s eta 0:00:01\r\u001b[K     |█████████████████████▎          | 655kB 31.8MB/s eta 0:00:01\r\u001b[K     |█████████████████████▋          | 665kB 31.8MB/s eta 0:00:01\r\u001b[K     |██████████████████████          | 675kB 31.8MB/s eta 0:00:01\r\u001b[K     |██████████████████████▎         | 686kB 31.8MB/s eta 0:00:01\r\u001b[K     |██████████████████████▋         | 696kB 31.8MB/s eta 0:00:01\r\u001b[K     |███████████████████████         | 706kB 31.8MB/s eta 0:00:01\r\u001b[K     |███████████████████████▎        | 716kB 31.8MB/s eta 0:00:01\r\u001b[K     |███████████████████████▋        | 727kB 31.8MB/s eta 0:00:01\r\u001b[K     |████████████████████████        | 737kB 31.8MB/s eta 0:00:01\r\u001b[K     |████████████████████████▎       | 747kB 31.8MB/s eta 0:00:01\r\u001b[K     |████████████████████████▋       | 757kB 31.8MB/s eta 0:00:01\r\u001b[K     |████████████████████████▉       | 768kB 31.8MB/s eta 0:00:01\r\u001b[K     |█████████████████████████▏      | 778kB 31.8MB/s eta 0:00:01\r\u001b[K     |█████████████████████████▌      | 788kB 31.8MB/s eta 0:00:01\r\u001b[K     |█████████████████████████▉      | 798kB 31.8MB/s eta 0:00:01\r\u001b[K     |██████████████████████████▏     | 808kB 31.8MB/s eta 0:00:01\r\u001b[K     |██████████████████████████▌     | 819kB 31.8MB/s eta 0:00:01\r\u001b[K     |██████████████████████████▉     | 829kB 31.8MB/s eta 0:00:01\r\u001b[K     |███████████████████████████▏    | 839kB 31.8MB/s eta 0:00:01\r\u001b[K     |███████████████████████████▌    | 849kB 31.8MB/s eta 0:00:01\r\u001b[K     |███████████████████████████▉    | 860kB 31.8MB/s eta 0:00:01\r\u001b[K     |████████████████████████████▏   | 870kB 31.8MB/s eta 0:00:01\r\u001b[K     |████████████████████████████▌   | 880kB 31.8MB/s eta 0:00:01\r\u001b[K     |████████████████████████████▉   | 890kB 31.8MB/s eta 0:00:01\r\u001b[K     |█████████████████████████████▏  | 901kB 31.8MB/s eta 0:00:01\r\u001b[K     |█████████████████████████████▌  | 911kB 31.8MB/s eta 0:00:01\r\u001b[K     |█████████████████████████████▉  | 921kB 31.8MB/s eta 0:00:01\r\u001b[K     |██████████████████████████████▏ | 931kB 31.8MB/s eta 0:00:01\r\u001b[K     |██████████████████████████████▌ | 942kB 31.8MB/s eta 0:00:01\r\u001b[K     |██████████████████████████████▉ | 952kB 31.8MB/s eta 0:00:01\r\u001b[K     |███████████████████████████████▏| 962kB 31.8MB/s eta 0:00:01\r\u001b[K     |███████████████████████████████▌| 972kB 31.8MB/s eta 0:00:01\r\u001b[K     |███████████████████████████████▉| 983kB 31.8MB/s eta 0:00:01\r\u001b[K     |████████████████████████████████| 993kB 31.8MB/s \n",
            "\u001b[?25hRequirement already satisfied: google-api-python-client>=1.2 in /usr/local/lib/python3.6/dist-packages (from PyDrive) (1.6.7)\n",
            "Requirement already satisfied: oauth2client>=4.0.0 in /usr/local/lib/python3.6/dist-packages (from PyDrive) (4.1.3)\n",
            "Requirement already satisfied: PyYAML>=3.0 in /usr/local/lib/python3.6/dist-packages (from PyDrive) (3.13)\n",
            "Requirement already satisfied: six<2dev,>=1.6.1 in /usr/local/lib/python3.6/dist-packages (from google-api-python-client>=1.2->PyDrive) (1.12.0)\n",
            "Requirement already satisfied: httplib2<1dev,>=0.9.2 in /usr/local/lib/python3.6/dist-packages (from google-api-python-client>=1.2->PyDrive) (0.11.3)\n",
            "Requirement already satisfied: uritemplate<4dev,>=3.0.0 in /usr/local/lib/python3.6/dist-packages (from google-api-python-client>=1.2->PyDrive) (3.0.0)\n",
            "Requirement already satisfied: pyasn1-modules>=0.0.5 in /usr/local/lib/python3.6/dist-packages (from oauth2client>=4.0.0->PyDrive) (0.2.5)\n",
            "Requirement already satisfied: pyasn1>=0.1.7 in /usr/local/lib/python3.6/dist-packages (from oauth2client>=4.0.0->PyDrive) (0.4.5)\n",
            "Requirement already satisfied: rsa>=3.1.4 in /usr/local/lib/python3.6/dist-packages (from oauth2client>=4.0.0->PyDrive) (4.0)\n",
            "Building wheels for collected packages: PyDrive\n",
            "  Building wheel for PyDrive (setup.py) ... \u001b[?25l\u001b[?25hdone\n",
            "  Stored in directory: /root/.cache/pip/wheels/fa/d2/9a/d3b6b506c2da98289e5d417215ce34b696db856643bad779f4\n",
            "Successfully built PyDrive\n",
            "Installing collected packages: PyDrive\n",
            "Successfully installed PyDrive-1.3.1\n",
            "Collecting hpelm\n",
            "\u001b[?25l  Downloading https://files.pythonhosted.org/packages/a2/9a/e68e1fd4ec6388979737be537d05b34626840b353e5db6e05951286614c0/hpelm-1.0.10-py3-none-any.whl (50kB)\n",
            "\u001b[K     |████████████████████████████████| 51kB 19.2MB/s \n",
            "\u001b[?25hRequirement already satisfied: six in /usr/local/lib/python3.6/dist-packages (from hpelm) (1.12.0)\n",
            "Collecting fasteners (from hpelm)\n",
            "  Downloading https://files.pythonhosted.org/packages/18/bd/55eb2d6397b9c0e263af9d091ebdb756b15756029b3cededf6461481bc63/fasteners-0.15-py2.py3-none-any.whl\n",
            "Requirement already satisfied: numpy in /usr/local/lib/python3.6/dist-packages (from hpelm) (1.16.4)\n",
            "Requirement already satisfied: scipy>=0.12 in /usr/local/lib/python3.6/dist-packages (from hpelm) (1.3.0)\n",
            "Requirement already satisfied: tables in /usr/local/lib/python3.6/dist-packages (from hpelm) (3.4.4)\n",
            "Requirement already satisfied: nose in /usr/local/lib/python3.6/dist-packages (from hpelm) (1.3.7)\n",
            "Collecting monotonic>=0.1 (from fasteners->hpelm)\n",
            "  Downloading https://files.pythonhosted.org/packages/ac/aa/063eca6a416f397bd99552c534c6d11d57f58f2e94c14780f3bbf818c4cf/monotonic-1.5-py2.py3-none-any.whl\n",
            "Requirement already satisfied: numexpr>=2.5.2 in /usr/local/lib/python3.6/dist-packages (from tables->hpelm) (2.6.9)\n",
            "Installing collected packages: monotonic, fasteners, hpelm\n",
            "Successfully installed fasteners-0.15 hpelm-1.0.10 monotonic-1.5\n"
          ],
          "name": "stdout"
        }
      ]
    },
    {
      "cell_type": "code",
      "metadata": {
        "id": "D08XUdig_sNh",
        "colab_type": "code",
        "colab": {}
      },
      "source": [
        "auth.authenticate_user()          # sign in for google drive\n",
        "gauth = GoogleAuth()\n",
        "gauth.credentials = GoogleCredentials.get_application_default()\n",
        "drive = GoogleDrive(gauth)"
      ],
      "execution_count": 0,
      "outputs": []
    },
    {
      "cell_type": "code",
      "metadata": {
        "id": "htYra32rHZ5i",
        "colab_type": "code",
        "colab": {}
      },
      "source": [
        "download = drive.CreateFile({'id': '1S0D5o1pQKijIFLKIBKPjGWWhhbhiHh25'})\n",
        "download.GetContentFile('dataset2.zip')\n",
        "!unzip dataset2.zip\n",
        "!ls"
      ],
      "execution_count": 0,
      "outputs": []
    },
    {
      "cell_type": "code",
      "metadata": {
        "id": "CrlnZ8KsAQPw",
        "colab_type": "code",
        "outputId": "5017752e-96b9-4752-d8f3-8090aee6a991",
        "colab": {
          "base_uri": "https://localhost:8080/",
          "height": 355
        }
      },
      "source": [
        "!pip install spectral\n",
        "#!rm -r /content/indian_pines                                      #comment if indian pines\n",
        "#!git clone https://github.com/shriya999/indian_pines.git          #comment if indian pines\n",
        "!ls"
      ],
      "execution_count": 0,
      "outputs": [
        {
          "output_type": "stream",
          "text": [
            "Collecting spectral\n",
            "\u001b[?25l  Downloading https://files.pythonhosted.org/packages/20/07/bd1c4af12954a66276e912e9b7e86c666f6875bc44465044a696d5a08ec0/spectral-0.19.tar.gz (141kB)\n",
            "\u001b[K    100% |████████████████████████████████| 143kB 8.4MB/s \n",
            "\u001b[?25hRequirement already satisfied: numpy in /usr/local/lib/python3.6/dist-packages (from spectral) (1.14.6)\n",
            "Building wheels for collected packages: spectral\n",
            "  Building wheel for spectral (setup.py) ... \u001b[?25ldone\n",
            "\u001b[?25h  Stored in directory: /root/.cache/pip/wheels/93/7e/15/a200ebb0b557d54eb396234737f9593ce705ed98a954bf148b\n",
            "Successfully built spectral\n",
            "Installing collected packages: spectral\n",
            "Successfully installed spectral-0.19\n",
            "rm: cannot remove '/content/indian_pines': No such file or directory\n",
            "Cloning into 'indian_pines'...\n",
            "remote: Enumerating objects: 21, done.\u001b[K\n",
            "remote: Counting objects: 100% (21/21), done.\u001b[K\n",
            "remote: Compressing objects: 100% (20/20), done.\u001b[K\n",
            "remote: Total 21 (delta 7), reused 0 (delta 0), pack-reused 0\u001b[K\n",
            "Unpacking objects: 100% (21/21), done.\n",
            "adc.json      indian_pines   PaviaU.mat\t\t    Salinas_gt.mat\n",
            "dataset2.zip  PaviaU_gt.mat  Salinas_corrected.mat  sample_data\n"
          ],
          "name": "stdout"
        }
      ]
    },
    {
      "cell_type": "markdown",
      "metadata": {
        "id": "cuUposdaMSF2",
        "colab_type": "text"
      },
      "source": [
        "PRE-PROCESSING"
      ]
    },
    {
      "cell_type": "code",
      "metadata": {
        "id": "z1FyVeBp_tq2",
        "colab_type": "code",
        "colab": {}
      },
      "source": [
        "import numpy as np\n",
        "from sklearn.decomposition import PCA\n",
        "import scipy.io as sio\n",
        "from sklearn.model_selection import train_test_split\n",
        "from sklearn import preprocessing\n",
        "import os\n",
        "import random\n",
        "from random import shuffle\n",
        "from skimage.transform import rotate\n",
        "import scipy.ndimage"
      ],
      "execution_count": 0,
      "outputs": []
    },
    {
      "cell_type": "code",
      "metadata": {
        "id": "Su14V7izCBCw",
        "colab_type": "code",
        "colab": {}
      },
      "source": [
        "def loadIndianPinesData():\n",
        "    data_path = os.path.join('/content/indian_pines/')                                                     #for indian pines\n",
        "    data = sio.loadmat(os.path.join(data_path, 'Indian_pines_corrected.mat'))['indian_pines_corrected']\n",
        "    labels = sio.loadmat(os.path.join(data_path, 'Indian_pines_gt.mat'))['indian_pines_gt']\n",
        "    \n",
        "    data_path2 = os.path.join('/content/')                                                                  #for pavia dataset\n",
        "    data2 = sio.loadmat(os.path.join(data_path2, 'PaviaU.mat'))['paviaU']\n",
        "    labels2 = sio.loadmat(os.path.join(data_path2, 'PaviaU_gt.mat'))['paviaU_gt']\n",
        "    \n",
        "    return data2, labels2\n",
        "  \n",
        "def splitTrainTestSet(X, y, testRatio=0.10):\n",
        "    X_train, X_test, y_train, y_test = train_test_split(X, y, test_size=testRatio, random_state=345,\n",
        "                                                        stratify=y)\n",
        "    return X_train, X_test, y_train, y_test\n",
        "  \n",
        "def oversampleWeakClasses(X, y):\n",
        "    uniqueLabels, labelCounts = np.unique(y, return_counts=True)\n",
        "    maxCount = np.max(labelCounts)\n",
        "    labelInverseRatios = maxCount / labelCounts  \n",
        "    # repeat for every label and concat\n",
        "    newX = X[y == uniqueLabels[0], :, :, :].repeat(round(labelInverseRatios[0]), axis=0)\n",
        "    newY = y[y == uniqueLabels[0]].repeat(round(labelInverseRatios[0]), axis=0)\n",
        "    for label, labelInverseRatio in zip(uniqueLabels[1:], labelInverseRatios[1:]):\n",
        "        cX = X[y== label,:,:,:].repeat(round(labelInverseRatio), axis=0)\n",
        "        cY = y[y == label].repeat(round(labelInverseRatio), axis=0)\n",
        "        newX = np.concatenate((newX, cX))\n",
        "        newY = np.concatenate((newY, cY))\n",
        "    np.random.seed(seed=42)\n",
        "    rand_perm = np.random.permutation(newY.shape[0])\n",
        "    newX = newX[rand_perm, :, :, :]\n",
        "    newY = newY[rand_perm]\n",
        "    return newX, newY\n",
        "  \n",
        "def standartizeData(X):\n",
        "    newX = np.reshape(X, (-1, X.shape[2]))\n",
        "    scaler = preprocessing.StandardScaler().fit(newX)  \n",
        "    newX = scaler.transform(newX)\n",
        "    newX = np.reshape(newX, (X.shape[0],X.shape[1],X.shape[2]))\n",
        "    return newX, scaler\n",
        "  \n",
        "def applyPCA(X, numComponents=75):\n",
        "    newX = np.reshape(X, (-1, X.shape[2]))\n",
        "    pca = PCA(n_components=numComponents, whiten=True)\n",
        "    newX = pca.fit_transform(newX)\n",
        "    newX = np.reshape(newX, (X.shape[0],X.shape[1], numComponents))\n",
        "    return newX, pca\n",
        "  \n",
        "def padWithZeros(X, margin=2):\n",
        "    newX = np.zeros((X.shape[0] + 2 * margin, X.shape[1] + 2* margin, X.shape[2]))\n",
        "    x_offset = margin\n",
        "    y_offset = margin\n",
        "    newX[x_offset:X.shape[0] + x_offset, y_offset:X.shape[1] + y_offset, :] = X\n",
        "    return newX"
      ],
      "execution_count": 0,
      "outputs": []
    },
    {
      "cell_type": "code",
      "metadata": {
        "id": "jAkxrTNoCpbq",
        "colab_type": "code",
        "colab": {}
      },
      "source": [
        "def createPatches(X, y, windowSize=5, removeZeroLabels = True):\n",
        "    margin = int((windowSize - 1) / 2)\n",
        "    zeroPaddedX = padWithZeros(X, margin=margin)\n",
        "    # split patches\n",
        "    patchesData = np.zeros((X.shape[0] * X.shape[1], windowSize, windowSize, X.shape[2]))\n",
        "    patchesLabels = np.zeros((X.shape[0] * X.shape[1]))\n",
        "    patchIndex = 0\n",
        "    for r in range(margin, zeroPaddedX.shape[0] - margin):\n",
        "        for c in range(margin, zeroPaddedX.shape[1] - margin):\n",
        "            patch = zeroPaddedX[r - margin:r + margin + 1, c - margin:c + margin + 1]   \n",
        "            patchesData[patchIndex, :, :, :] = patch\n",
        "            patchesLabels[patchIndex] = y[r-margin, c-margin]\n",
        "            patchIndex = patchIndex + 1\n",
        "    if removeZeroLabels:\n",
        "        patchesData = patchesData[patchesLabels>0,:,:,:]\n",
        "        patchesLabels = patchesLabels[patchesLabels>0]\n",
        "        patchesLabels -= 1\n",
        "    return patchesData, patchesLabels\n",
        "  \n",
        "  \n",
        "def AugmentData(X_train):\n",
        "    for i in range(int(X_train.shape[0]/2)):\n",
        "        patch = X_train[i,:,:,:]\n",
        "        num = random.randint(0,2)\n",
        "        if (num == 0):\n",
        "            \n",
        "            flipped_patch = np.flipud(patch)\n",
        "        if (num == 1):\n",
        "            \n",
        "            flipped_patch = np.fliplr(patch)\n",
        "        if (num == 2):\n",
        "            \n",
        "            no = random.randrange(-180,180,30)\n",
        "            flipped_patch = scipy.ndimage.interpolation.rotate(patch, no,axes=(1, 0),\n",
        "                                                               reshape=False, output=None, order=3, mode='constant', cval=0.0, prefilter=False)\n",
        "    \n",
        "    \n",
        "    patch2 = flipped_patch\n",
        "    X_train[i,:,:,:] = patch2\n",
        "    \n",
        "    return X_train\n",
        "  \n",
        "def savePreprocessedData(X_trainPatches, X_testPatches, y_trainPatches, y_testPatches, windowSize, wasPCAapplied = False, numPCAComponents = 0, testRatio = 0.25):\n",
        "    if wasPCAapplied:\n",
        "        with open(\"/content/indian_pines/Xtrain.npy\", 'bw') as outfile:\n",
        "            np.save(outfile, X_trainPatches)\n",
        "        with open(\"/content/indian_pines/Xtest.npy\", 'bw') as outfile:\n",
        "            np.save(outfile, X_testPatches)\n",
        "        with open(\"/content/indian_pines/ytrain.npy\", 'bw') as outfile:\n",
        "            np.save(outfile, y_trainPatches)\n",
        "        with open(\"/content/indian_pines/ytest.npy\", 'bw') as outfile:\n",
        "            np.save(outfile, y_testPatches)\n",
        "    else:\n",
        "        with open(\"/content/indian_pines/Xtrain.npy\", 'bw') as outfile:\n",
        "            np.save(outfile, X_trainPatches)\n",
        "        with open(\"/content/indian_pines/Xtest.npy\", 'bw') as outfile:\n",
        "            np.save(outfile, X_testPatches)\n",
        "        with open(\"/content/indian_pines/ytrain.npy\", 'bw') as outfile:\n",
        "            np.save(outfile, y_trainPatches)\n",
        "        with open(\"/content/indian_pines/ytest.npy\", 'bw') as outfile:\n",
        "            np.save(outfile, y_testPatches)"
      ],
      "execution_count": 0,
      "outputs": []
    },
    {
      "cell_type": "code",
      "metadata": {
        "id": "zXCvp5ZRC17w",
        "colab_type": "code",
        "outputId": "ab8b00a0-a8c7-489c-f27c-f9fb15710ab4",
        "colab": {
          "base_uri": "https://localhost:8080/",
          "height": 35
        }
      },
      "source": [
        "# Global Variables\n",
        "numComponents = 30\n",
        "windowSize = 5\n",
        "testRatio = 0.25\n",
        "NUM_CLASS = 9\n",
        "X, y = loadIndianPinesData()\n",
        "print(X.shape, y.shape)"
      ],
      "execution_count": 0,
      "outputs": [
        {
          "output_type": "stream",
          "text": [
            "(610, 340, 103) (610, 340)\n"
          ],
          "name": "stdout"
        }
      ]
    },
    {
      "cell_type": "markdown",
      "metadata": {
        "id": "QaXrku78P4om",
        "colab_type": "text"
      },
      "source": [
        "TRIALS OF GMLC/SAM"
      ]
    },
    {
      "cell_type": "code",
      "metadata": {
        "id": "jmHPv8AbcUNF",
        "colab_type": "code",
        "outputId": "9332d6e8-37e9-4eeb-a27b-1ec35c134b3f",
        "colab": {
          "base_uri": "https://localhost:8080/",
          "height": 1478
        }
      },
      "source": [
        "import numpy as np\n",
        "from spectral import *\n",
        "\n",
        "img,gt=X,y\n",
        "v = imshow(classes=gt)\n",
        "classes = create_training_classes(img, gt, True)\n",
        "\n",
        "gmlc = GaussianClassifier(classes)                 #the gaussian classifier\n",
        "clmap = gmlc.classify_image(img)\n",
        "gtresults = clmap * (gt != 0)           #view results for only the ground truth pixels we must mask out all the pixels not associated with a training class.\n",
        "gmlc_out=gtresults\n",
        "v = imshow(classes=gtresults)\n",
        "gterrors = gtresults * (gtresults != gt) #To view only the errors, we must mask out all elements in gtResults that do not match the ground truth image.\n",
        "#v = imshow(classes=gterrors)\n",
        "total=clmap.shape[0] * clmap.shape[1]\n",
        "correct=np.sum(gtresults==gt)                 #no of correct predictions\n",
        "print ( \"GMLC: \",(correct)*100.0/(total) )             #accuracy\n",
        "\n",
        "means = np.zeros((len(classes), img.shape[2]), float)  #the Spectral Angle Mapper classifier\n",
        "for (i, c) in enumerate(classes):\n",
        "   means[i] = c.stats.mean\n",
        "angles = spectral_angles(img, means)                   \n",
        "clmap = np.argmin(angles,2)\n",
        "gtresults = (clmap+1) * (gt != 0)\n",
        "v = imshow(classes=gtresults)\n",
        "correct=np.sum(gtresults==gt)\n",
        "print ( \"SAM: \",(correct)*100.0/(total) )  \n",
        "\n",
        "fld = linear_discriminant(classes)                 #fisher linear discriminant classifier\n",
        "img_fld = fld.transform(img)\n",
        "classes.transform(fld.transform)\n",
        "gmlc = GaussianClassifier(classes)\n",
        "clmap = gmlc.classify_image(img_fld)\n",
        "gtresults = clmap * (gt != 0)          \n",
        "v = imshow(classes=gtresults)\n",
        "correct=np.sum(gtresults==gt)                 \n",
        "print ( \"GMLC with fisher: \",(correct)*100.0/(total) )             "
      ],
      "execution_count": 0,
      "outputs": [
        {
          "output_type": "stream",
          "text": [
            "Setting min samples to 30\n",
            "Processing...  0.0%\b\b\b\b\b\b\b\b\b\b\b\b\b\b\b\b\b\b\bProcessing... 11.1%\b\b\b\b\b\b\b\b\b\b\b\b\b\b\b\b\b\b\bProcessing... 22.2%\b\b\b\b\b\b\b\b\b\b\b\b\b\b\b\b\b\b\bProcessing... 33.3%\b\b\b\b\b\b\b\b\b\b\b\b\b\b\b\b\b\b\bProcessing... 44.4%\b\b\b\b\b\b\b\b\b\b\b\b\b\b\b\b\b\b\bProcessing... 55.6%\b\b\b\b\b\b\b\b\b\b\b\b\b\b\b\b\b\b\bProcessing... 66.7%\b\b\b\b\b\b\b\b\b\b\b\b\b\b\b\b\b\b\bProcessing... 77.8%\b\b\b\b\b\b\b\b\b\b\b\b\b\b\b\b\b\b\bProcessing... 88.9%\b\b\b\b\b\b\b\b\b\b\b\b\b\b\b\b\b\b\bProcessing... 100.0%\b\b\b\b\b\b\b\b\b\b\b\b\b\b\b\b\b\b\b\bProcessing...done   \n",
            "GMLC:  98.66055930568949\n",
            "SAM:  94.32401157184185\n",
            "Setting min samples to 8\n",
            "Processing...  0.0%\b\b\b\b\b\b\b\b\b\b\b\b\b\b\b\b\b\b\bProcessing... 11.1%\b\b\b\b\b\b\b\b\b\b\b\b\b\b\b\b\b\b\bProcessing... 22.2%\b\b\b\b\b\b\b\b\b\b\b\b\b\b\b\b\b\b\bProcessing... 33.3%\b\b\b\b\b\b\b\b\b\b\b\b\b\b\b\b\b\b\bProcessing... 44.4%\b\b\b\b\b\b\b\b\b\b\b\b\b\b\b\b\b\b\bProcessing... 55.6%\b\b\b\b\b\b\b\b\b\b\b\b\b\b\b\b\b\b\bProcessing... 66.7%\b\b\b\b\b\b\b\b\b\b\b\b\b\b\b\b\b\b\bProcessing... 77.8%\b\b\b\b\b\b\b\b\b\b\b\b\b\b\b\b\b\b\bProcessing... 88.9%\b\b\b\b\b\b\b\b\b\b\b\b\b\b\b\b\b\b\bProcessing... 100.0%\b\b\b\b\b\b\b\b\b\b\b\b\b\b\b\b\b\b\b\bProcessing...done   \n",
            "GMLC with fisher:  97.49758919961427\n"
          ],
          "name": "stdout"
        },
        {
          "output_type": "display_data",
          "data": {
            "image/png": "[encoded data removed]",
            "text/plain": [
              "<Figure size 576x396 with 1 Axes>"
            ]
          },
          "metadata": {
            "tags": []
          }
        },
        {
          "output_type": "display_data",
          "data": {
            "image/png": "[encoded data removed]",
            "text/plain": [
              "<Figure size 576x396 with 1 Axes>"
            ]
          },
          "metadata": {
            "tags": []
          }
        },
        {
          "output_type": "display_data",
          "data": {
            "image/png": "[encoded data removed]",
            "text/plain": [
              "<Figure size 576x396 with 1 Axes>"
            ]
          },
          "metadata": {
            "tags": []
          }
        },
        {
          "output_type": "display_data",
          "data": {
            "image/png": "[encoded data removed]",
            "text/plain": [
              "<Figure size 576x396 with 1 Axes>"
            ]
          },
          "metadata": {
            "tags": []
          }
        }
      ]
    },
    {
      "cell_type": "code",
      "metadata": {
        "id": "FCLgElCX_dMY",
        "colab_type": "code",
        "outputId": "dce3421c-cc88-4c40-e9c2-b2822da8aecb",
        "colab": {
          "base_uri": "https://localhost:8080/",
          "height": 70
        }
      },
      "source": [
        "pc = principal_components(img)                                 #with PCA accuracy is worse\n",
        "pc_0999 = pc.reduce(fraction=0.999)\n",
        "img_pc = pc_0999.transform(img)\n",
        "classes = create_training_classes(img_pc, gt,True)\n",
        "gmlc = GaussianClassifier(classes)\n",
        "clmap = gmlc.classify_image(img_pc)\n",
        "gtresults = clmap * (gt != 0)            \n",
        "total=clmap.shape[0] * clmap.shape[1]\n",
        "correct=np.sum(gtresults==gt)                 \n",
        "print ( \"GMLC: \",(correct)*100.0/(total) )         "
      ],
      "execution_count": 0,
      "outputs": [
        {
          "output_type": "stream",
          "text": [
            "Setting min samples to 16\n",
            "Processing...  0.0%\b\b\b\b\b\b\b\b\b\b\b\b\b\b\b\b\b\b\bProcessing... 11.1%\b\b\b\b\b\b\b\b\b\b\b\b\b\b\b\b\b\b\bProcessing... 22.2%\b\b\b\b\b\b\b\b\b\b\b\b\b\b\b\b\b\b\bProcessing... 33.3%\b\b\b\b\b\b\b\b\b\b\b\b\b\b\b\b\b\b\bProcessing... 44.4%\b\b\b\b\b\b\b\b\b\b\b\b\b\b\b\b\b\b\bProcessing... 55.6%\b\b\b\b\b\b\b\b\b\b\b\b\b\b\b\b\b\b\bProcessing... 66.7%\b\b\b\b\b\b\b\b\b\b\b\b\b\b\b\b\b\b\bProcessing... 77.8%\b\b\b\b\b\b\b\b\b\b\b\b\b\b\b\b\b\b\bProcessing... 88.9%\b\b\b\b\b\b\b\b\b\b\b\b\b\b\b\b\b\b\bProcessing... 100.0%\b\b\b\b\b\b\b\b\b\b\b\b\b\b\b\b\b\b\b\bProcessing...done   \n",
            "GMLC:  98.49614271938283\n"
          ],
          "name": "stdout"
        }
      ]
    },
    {
      "cell_type": "markdown",
      "metadata": {
        "id": "gOks74tLMNYQ",
        "colab_type": "text"
      },
      "source": [
        "TRAINING THE MODEL\n"
      ]
    },
    {
      "cell_type": "code",
      "metadata": {
        "id": "qahkMp2s8Am7",
        "colab_type": "code",
        "outputId": "41dcfcca-a393-4606-9228-3374116f04d8",
        "colab": {
          "base_uri": "https://localhost:8080/",
          "height": 35
        }
      },
      "source": [
        "X,pca = applyPCA(X,numComponents=numComponents)\n",
        "XPatches, yPatches = createPatches(X, y, windowSize=windowSize)\n",
        "X_train, X_test, y_train, y_test = splitTrainTestSet(XPatches, yPatches, testRatio)\n",
        "X_train, y_train = oversampleWeakClasses(X_train, y_train)\n",
        "X_train = AugmentData(X_train)\n",
        "print(X_train.shape)\n",
        "#savePreprocessedData(X_train, X_test, y_train, y_test, windowSize = windowSize,wasPCAapplied=True, numPCAComponents = numComponents,testRatio = testRatio)  #comment if not indian pines"
      ],
      "execution_count": 0,
      "outputs": [
        {
          "output_type": "stream",
          "text": [
            "(128051, 5, 5, 30)\n"
          ],
          "name": "stdout"
        }
      ]
    },
    {
      "cell_type": "code",
      "metadata": {
        "id": "Y1y-HwbLLyWm",
        "colab_type": "code",
        "outputId": "ecabdc5c-d21a-4244-fecf-407a9dad6042",
        "colab": {
          "base_uri": "https://localhost:8080/",
          "height": 35
        }
      },
      "source": [
        "import numpy as np\n",
        "import scipy\n",
        "import os\n",
        "from keras.models import Sequential\n",
        "from keras.layers import Dense, Dropout, Flatten\n",
        "from keras.layers import Conv2D, MaxPooling2D\n",
        "from keras.optimizers import SGD\n",
        "from keras import backend as K\n",
        "K.set_image_dim_ordering('th')\n",
        "from keras.utils import np_utils"
      ],
      "execution_count": 0,
      "outputs": [
        {
          "output_type": "stream",
          "text": [
            "Using TensorFlow backend.\n"
          ],
          "name": "stderr"
        }
      ]
    },
    {
      "cell_type": "code",
      "metadata": {
        "id": "7QbI2ZsCMBl0",
        "colab_type": "code",
        "colab": {}
      },
      "source": [
        "# Global Variables\n",
        "windowSize = 5\n",
        "numPCAcomponents = 30\n",
        "testRatio = 0.25\n",
        "#X_train = np.load(\"/content/indian_pines/Xtrain.npy\")                #comment if not indian pines\n",
        "#y_train = np.load(\"/content/indian_pines/ytrain.npy\")                #comment if not indian pines"
      ],
      "execution_count": 0,
      "outputs": []
    },
    {
      "cell_type": "code",
      "metadata": {
        "id": "m16lws5dMGje",
        "colab_type": "code",
        "outputId": "6b3d3097-99fa-46a7-b399-8b1104fe5b1b",
        "colab": {
          "base_uri": "https://localhost:8080/",
          "height": 52
        }
      },
      "source": [
        "X_train = np.reshape(X_train, (X_train.shape[0],X_train.shape[3], X_train.shape[1], X_train.shape[2]))  # Reshape into (numberofsamples, channels, height, width)\n",
        "y_train = np_utils.to_categorical(y_train)        # convert class labels to on-hot encoding\n",
        "print(y_train.shape)\n",
        "input_shape= X_train[0].shape                     # Define the input shape \n",
        "print(input_shape)\n",
        "C1 = 3*numPCAcomponents                           # number of filters"
      ],
      "execution_count": 0,
      "outputs": [
        {
          "output_type": "stream",
          "text": [
            "(128051, 9)\n",
            "(30, 5, 5)\n"
          ],
          "name": "stdout"
        }
      ]
    },
    {
      "cell_type": "code",
      "metadata": {
        "id": "cobjqwwGMxeq",
        "colab_type": "code",
        "outputId": "7c4af489-fa87-4cc8-c3be-7264acf9202c",
        "colab": {
          "base_uri": "https://localhost:8080/",
          "height": 144
        }
      },
      "source": [
        "# Define the model\n",
        "model = Sequential()\n",
        "model.add(Conv2D(C1, (3, 3), activation='relu', input_shape=input_shape))\n",
        "model.add(Conv2D(3*C1, (3, 3), activation='relu'))\n",
        "model.add(Dropout(0.25))\n",
        "model.add(Flatten())\n",
        "model.add(Dense(6*numPCAcomponents, activation='relu'))\n",
        "model.add(Dropout(0.5))\n",
        "model.add(Dense(NUM_CLASS, activation='softmax'))"
      ],
      "execution_count": 0,
      "outputs": [
        {
          "output_type": "stream",
          "text": [
            "WARNING:tensorflow:From /usr/local/lib/python3.6/dist-packages/tensorflow/python/framework/op_def_library.py:263: colocate_with (from tensorflow.python.framework.ops) is deprecated and will be removed in a future version.\n",
            "Instructions for updating:\n",
            "Colocations handled automatically by placer.\n",
            "WARNING:tensorflow:From /usr/local/lib/python3.6/dist-packages/keras/backend/tensorflow_backend.py:3445: calling dropout (from tensorflow.python.ops.nn_ops) with keep_prob is deprecated and will be removed in a future version.\n",
            "Instructions for updating:\n",
            "Please use `rate` instead of `keep_prob`. Rate should be set to `rate = 1 - keep_prob`.\n"
          ],
          "name": "stdout"
        }
      ]
    },
    {
      "cell_type": "code",
      "metadata": {
        "id": "oba_ZYRvMzoo",
        "colab_type": "code",
        "outputId": "978e5ef7-9dce-4d5f-9009-33ed7be46558",
        "colab": {
          "base_uri": "https://localhost:8080/",
          "height": 392
        }
      },
      "source": [
        "sgd = SGD(lr=0.0001, decay=1e-6, momentum=0.9, nesterov=True)\n",
        "model.compile(loss='categorical_crossentropy', optimizer=sgd, metrics=['accuracy'])\n",
        "model.fit(X_train, y_train, batch_size=32, epochs=8)"
      ],
      "execution_count": 0,
      "outputs": [
        {
          "output_type": "stream",
          "text": [
            "WARNING:tensorflow:From /usr/local/lib/python3.6/dist-packages/tensorflow/python/ops/math_ops.py:3066: to_int32 (from tensorflow.python.ops.math_ops) is deprecated and will be removed in a future version.\n",
            "Instructions for updating:\n",
            "Use tf.cast instead.\n",
            "Epoch 1/8\n",
            "128051/128051 [==============================] - 27s 215us/step - loss: 1.1247 - acc: 0.6104\n",
            "Epoch 2/8\n",
            "128051/128051 [==============================] - 25s 193us/step - loss: 0.4211 - acc: 0.8514\n",
            "Epoch 3/8\n",
            "128051/128051 [==============================] - 25s 193us/step - loss: 0.2798 - acc: 0.9032\n",
            "Epoch 4/8\n",
            "128051/128051 [==============================] - 25s 193us/step - loss: 0.2169 - acc: 0.9255\n",
            "Epoch 5/8\n",
            "128051/128051 [==============================] - 25s 194us/step - loss: 0.1749 - acc: 0.9396\n",
            "Epoch 6/8\n",
            "128051/128051 [==============================] - 25s 193us/step - loss: 0.1500 - acc: 0.9492\n",
            "Epoch 7/8\n",
            "128051/128051 [==============================] - 25s 193us/step - loss: 0.1287 - acc: 0.9564\n",
            "Epoch 8/8\n",
            "128051/128051 [==============================] - 25s 194us/step - loss: 0.1145 - acc: 0.9617\n"
          ],
          "name": "stdout"
        },
        {
          "output_type": "execute_result",
          "data": {
            "text/plain": [
              "<keras.callbacks.History at 0x7f03f075c5c0>"
            ]
          },
          "metadata": {
            "tags": []
          },
          "execution_count": 20
        }
      ]
    },
    {
      "cell_type": "code",
      "metadata": {
        "id": "q3pDjj3KNssA",
        "colab_type": "code",
        "colab": {}
      },
      "source": [
        "import h5py\n",
        "from keras.models import load_model\n",
        "model.save('/content/indian_pines/my_model.h5')"
      ],
      "execution_count": 0,
      "outputs": []
    },
    {
      "cell_type": "markdown",
      "metadata": {
        "id": "W544PvN6DqFw",
        "colab_type": "text"
      },
      "source": [
        "Trial2: CNN+ELM"
      ]
    },
    {
      "cell_type": "code",
      "metadata": {
        "id": "2Am-Fj-yF44C",
        "colab_type": "code",
        "colab": {}
      },
      "source": [
        "# coding: utf-8\n",
        "import hpelm\n",
        "ELM_HIDDEN_NEURONS = 350"
      ],
      "execution_count": 0,
      "outputs": []
    },
    {
      "cell_type": "code",
      "metadata": {
        "id": "1m0JsgIpP-cp",
        "colab_type": "code",
        "colab": {}
      },
      "source": [
        "#X_test = np.load(\"/content/indian_pines/Xtest.npy\")                  #comment if not indian pines\n",
        "#y_test = np.load(\"/content/indian_pines/ytest.npy\")                  #comment if not indian pines\n",
        "X_test  = np.reshape(X_test, (X_test.shape[0], X_test.shape[3], X_test.shape[1], X_test.shape[2]))\n",
        "y_test = np_utils.to_categorical(y_test)\n",
        "model = load_model('/content/indian_pines/my_model.h5')"
      ],
      "execution_count": 0,
      "outputs": []
    },
    {
      "cell_type": "code",
      "metadata": {
        "id": "EMiO71ePzp_B",
        "colab_type": "code",
        "outputId": "45e546d0-262d-4307-96ff-164173e04a3e",
        "colab": {
          "base_uri": "https://localhost:8080/",
          "height": 161
        }
      },
      "source": [
        "from sklearn.metrics import accuracy_score\n",
        "\n",
        "y_preds = model.predict(X_train)\n",
        "elm_model = hpelm.elm.ELM(y_preds.shape[1], NUM_CLASS)\n",
        "elm_model.add_neurons(ELM_HIDDEN_NEURONS, func='sigm')\n",
        "elm_model.train(y_preds, y_train, 'c')\n",
        "\n",
        "y_testpred=model.predict(X_test)\n",
        "elm_result = elm_model.predict(y_testpred)\n",
        "elm_pred = np.argmax(elm_result, axis=1)\n",
        "y_tester=np.argmax(y_test,axis=1)\n",
        "\n",
        "total=elm_pred.shape[0]\n",
        "correct=np.sum(elm_pred==y_tester)\n",
        "print (correct)\n",
        "print ((correct*100.0)/total)                     #the accuracy"
      ],
      "execution_count": 0,
      "outputs": [
        {
          "output_type": "stream",
          "text": [
            "Covariance matrix is not full rank; solving with SVD (slow)\n",
            "This happened because you have duplicated or too many neurons\n"
          ],
          "name": "stdout"
        },
        {
          "output_type": "stream",
          "text": [
            "/usr/local/lib/python3.6/dist-packages/hpelm/nnets/slfn_python.py:65: FutureWarning: `rcond` parameter will change to the default of machine precision times ``max(M, N)`` where M and N are the input matrix dimensions.\n",
            "To use the future default and silence this warning we advise to pass `rcond=None`, to keep using the old, explicitly pass `rcond=-1`.\n",
            "  B = np.linalg.lstsq(HH, HT)[0]\n"
          ],
          "name": "stderr"
        },
        {
          "output_type": "stream",
          "text": [
            "10381\n",
            "97.07312511688798\n"
          ],
          "name": "stdout"
        }
      ]
    },
    {
      "cell_type": "code",
      "metadata": {
        "id": "b5whXIu6Pf3X",
        "colab_type": "code",
        "colab": {}
      },
      "source": [
        "# Import the necessary libraries\n",
        "from sklearn.decomposition import PCA\n",
        "import os\n",
        "import scipy.io as sio\n",
        "import numpy as np\n",
        "from keras.models import load_model\n",
        "from keras.utils import np_utils\n",
        "from sklearn.metrics import classification_report, confusion_matrix\n",
        "import itertools\n",
        "import spectral"
      ],
      "execution_count": 0,
      "outputs": []
    },
    {
      "cell_type": "code",
      "metadata": {
        "id": "vIT34w3Q7aBT",
        "colab_type": "code",
        "outputId": "db92e161-222e-4cb3-e170-38d17b0501e2",
        "colab": {
          "base_uri": "https://localhost:8080/",
          "height": 444
        }
      },
      "source": [
        "#target_names = ['Alfalfa', 'Corn-notill', 'Corn-mintill', 'Corn','Grass-pasture', 'Grass-trees', 'Grass-pasture-mowed','Hay-windrowed', 'Oats', 'Soybean-notill', 'Soybean-mintill','Soybean-clean', 'Wheat', 'Woods', 'Buildings-Grass-Trees-Drives','Stone-Steel-Towers']\n",
        "#target_names2=['Water','Trees','Asphalt','Self-Blocking Bricks','Bitumen','Tiles','Shadows','Meadows','Bare Soil']       #for pavia\n",
        "target_names3=['Asphalt','Meadows','Gravel','Trees','Painted metal sheets','Bare Soil','Bitumen','Self-Blocking Bricks','Shadows']      #for paviaU\n",
        "classification = classification_report(np.argmax(y_test, axis=1), elm_pred, target_names=target_names3)\n",
        "confusion = confusion_matrix(np.argmax(y_test, axis=1), elm_pred)\n",
        "print(classification,confusion)    "
      ],
      "execution_count": 0,
      "outputs": [
        {
          "output_type": "stream",
          "text": [
            "                      precision    recall  f1-score   support\n",
            "\n",
            "             Asphalt       0.99      0.97      0.98      1658\n",
            "             Meadows       0.99      0.98      0.99      4662\n",
            "              Gravel       0.88      0.88      0.88       525\n",
            "               Trees       0.99      0.99      0.99       766\n",
            "Painted metal sheets       1.00      1.00      1.00       336\n",
            "           Bare Soil       0.93      0.98      0.96      1257\n",
            "             Bitumen       0.95      0.98      0.97       332\n",
            "Self-Blocking Bricks       0.90      0.91      0.91       921\n",
            "             Shadows       1.00      1.00      1.00       237\n",
            "\n",
            "           micro avg       0.97      0.97      0.97     10694\n",
            "           macro avg       0.96      0.97      0.96     10694\n",
            "        weighted avg       0.97      0.97      0.97     10694\n",
            " [[1613    0    0    0    0    1   16   28    0]\n",
            " [   1 4566    0   10    0   84    0    1    0]\n",
            " [   3    0  463    0    0    0    0   59    0]\n",
            " [   0    3    0  762    0    0    0    1    0]\n",
            " [   0    0    0    0  335    0    0    1    0]\n",
            " [   0   20    0    0    0 1237    0    0    0]\n",
            " [   4    0    0    0    0    0  327    1    0]\n",
            " [  12    1   65    0    0    2    0  841    0]\n",
            " [   0    0    0    0    0    0    0    0  237]]\n"
          ],
          "name": "stdout"
        }
      ]
    },
    {
      "cell_type": "markdown",
      "metadata": {
        "id": "FUVqQCI4Pkdo",
        "colab_type": "text"
      },
      "source": [
        "VALIDATION AND CLASSIFICATION FOR CNN"
      ]
    },
    {
      "cell_type": "code",
      "metadata": {
        "id": "kAnqdohxPti5",
        "colab_type": "code",
        "colab": {}
      },
      "source": [
        "# Global Variables\n",
        "windowSize = 5\n",
        "numPCAcomponents = 30\n",
        "testRatio = 0.25"
      ],
      "execution_count": 0,
      "outputs": []
    },
    {
      "cell_type": "code",
      "metadata": {
        "id": "6cchpdnOP0w9",
        "colab_type": "code",
        "colab": {}
      },
      "source": [
        "def reports (X_test,y_test):\n",
        "    Y_pred = model.predict(X_test)\n",
        "    y_pred = np.argmax(Y_pred, axis=1)\n",
        "    classification = classification_report(np.argmax(y_test, axis=1), y_pred, target_names=target_names3)\n",
        "    confusion = confusion_matrix(np.argmax(y_test, axis=1), y_pred)\n",
        "    score = model.evaluate(X_test, y_test, batch_size=32)\n",
        "    Test_Loss =  score[0]*100\n",
        "    Test_accuracy = score[1]*100\n",
        "    \n",
        "    return classification, confusion, Test_Loss, Test_accuracy\n",
        "\n",
        "def Patch(data,height_index,width_index):\n",
        "    height_slice = slice(height_index, height_index+PATCH_SIZE)\n",
        "    width_slice = slice(width_index, width_index+PATCH_SIZE)\n",
        "    patch = data[height_slice, width_slice, :]\n",
        "    \n",
        "    return patch"
      ],
      "execution_count": 0,
      "outputs": []
    },
    {
      "cell_type": "code",
      "metadata": {
        "id": "gs5ruOt3QBi4",
        "colab_type": "code",
        "outputId": "030e3279-eb4f-4a9c-fffe-1e683499ca4a",
        "colab": {
          "base_uri": "https://localhost:8080/",
          "height": 532
        }
      },
      "source": [
        "classification, confusion, Test_loss, Test_accuracy = reports(X_test,y_test)\n",
        "classification = str(classification)\n",
        "confusion = str(confusion)\n",
        "file_name = 'report' + \"WindowSize\" + str(windowSize) + \"PCA\" + str(numComponents) + \"testRatio\" + str(testRatio) +\".txt\"\n",
        "with open(file_name, 'w') as x_file:\n",
        "    x_file.write('{} Test loss (%)'.format(Test_loss))\n",
        "    x_file.write('\\n')\n",
        "    x_file.write('{} Test accuracy (%)'.format(Test_accuracy))\n",
        "    x_file.write('\\n')\n",
        "    x_file.write('\\n')\n",
        "    x_file.write('{}'.format(classification))\n",
        "    x_file.write('\\n')\n",
        "    x_file.write('{}'.format(confusion))\n",
        "\n",
        "!cat /content/reportWindowSize5PCA30testRatio0.25.txt"
      ],
      "execution_count": 0,
      "outputs": [
        {
          "output_type": "stream",
          "text": [
            "10694/10694 [==============================] - 1s 84us/step\n",
            "8.680615702733517 Test loss (%)\n",
            "96.87675331961849 Test accuracy (%)\n",
            "\n",
            "                      precision    recall  f1-score   support\n",
            "\n",
            "             Asphalt       0.99      0.96      0.98      1658\n",
            "             Meadows       0.99      0.98      0.99      4662\n",
            "              Gravel       0.88      0.85      0.87       525\n",
            "               Trees       0.98      1.00      0.99       766\n",
            "Painted metal sheets       1.00      1.00      1.00       336\n",
            "           Bare Soil       0.93      0.98      0.96      1257\n",
            "             Bitumen       0.93      0.99      0.96       332\n",
            "Self-Blocking Bricks       0.89      0.92      0.91       921\n",
            "             Shadows       0.99      1.00      1.00       237\n",
            "\n",
            "           micro avg       0.97      0.97      0.97     10694\n",
            "           macro avg       0.95      0.97      0.96     10694\n",
            "        weighted avg       0.97      0.97      0.97     10694\n",
            "\n",
            "[[1596    0    6    0    0    0   25   29    2]\n",
            " [   0 4565    0   14    0   83    0    0    0]\n",
            " [   3    0  448    0    0    0    0   74    0]\n",
            " [   0    2    0  763    0    1    0    0    0]\n",
            " [   0    0    0    0  336    0    0    0    0]\n",
            " [   0   22    0    0    0 1235    0    0    0]\n",
            " [   2    0    0    0    0    0  329    1    0]\n",
            " [  12    2   54    0    0    2    0  851    0]\n",
            " [   0    0    0    0    0    0    0    0  237]]"
          ],
          "name": "stdout"
        }
      ]
    },
    {
      "cell_type": "code",
      "metadata": {
        "id": "fM4WSXamQNd2",
        "colab_type": "code",
        "colab": {}
      },
      "source": [
        "# load the original image\n",
        "X, y = loadIndianPinesData()\n",
        "X,pca = applyPCA(X,numComponents=numComponents)\n",
        "height = y.shape[0]\n",
        "width = y.shape[1]\n",
        "PATCH_SIZE = 5\n",
        "numComponents = 30"
      ],
      "execution_count": 0,
      "outputs": []
    },
    {
      "cell_type": "code",
      "metadata": {
        "id": "doerOYJgQVii",
        "colab_type": "code",
        "colab": {}
      },
      "source": [
        "# calculate the predicted image\n",
        "outputs = np.zeros((height,width))\n",
        "for i in range(height-PATCH_SIZE+1):\n",
        "    for j in range(width-PATCH_SIZE+1):\n",
        "        k=int(PATCH_SIZE/2)\n",
        "        target = int(y[i+k,j+k])\n",
        "        if target == 0 :\n",
        "            continue\n",
        "        else :\n",
        "            image_patch=Patch(X,i,j)\n",
        "            X_test_image = image_patch.reshape(1,image_patch.shape[2],image_patch.shape[0],image_patch.shape[1]).astype('float32')                                   \n",
        "            prediction = (model.predict_classes(X_test_image))                         \n",
        "            outputs[i+k][j+k] = prediction+1"
      ],
      "execution_count": 0,
      "outputs": []
    },
    {
      "cell_type": "code",
      "metadata": {
        "id": "D3TT0ZwLQYub",
        "colab_type": "code",
        "outputId": "0e94ded3-a95b-4998-ffe4-727088f4a097",
        "colab": {
          "base_uri": "https://localhost:8080/",
          "height": 628
        }
      },
      "source": [
        "ground_truth = spectral.imshow(classes = y,figsize =(5,5))\n",
        "predict_image = spectral.imshow(classes = outputs.astype(int),figsize =(5,5))"
      ],
      "execution_count": 0,
      "outputs": [
        {
          "output_type": "display_data",
          "data": {
            "image/png": "[encoded data removed]",
            "text/plain": [
              "<Figure size 360x360 with 1 Axes>"
            ]
          },
          "metadata": {
            "tags": []
          }
        },
        {
          "output_type": "display_data",
          "data": {
            "image/png": "[encoded data removed]",
            "text/plain": [
              "<Figure size 360x360 with 1 Axes>"
            ]
          },
          "metadata": {
            "tags": []
          }
        }
      ]
    },
    {
      "cell_type": "markdown",
      "metadata": {
        "id": "uaTySL1lEfFH",
        "colab_type": "text"
      },
      "source": [
        "WATERSHED SEGMENTATION MAP"
      ]
    },
    {
      "cell_type": "code",
      "metadata": {
        "id": "5tKqZuXZ8Hkv",
        "colab_type": "code",
        "outputId": "3e03f270-1b32-4190-b385-573ff97912ca",
        "colab": {
          "base_uri": "https://localhost:8080/",
          "height": 239
        }
      },
      "source": [
        "import numpy as np\n",
        "import matplotlib.pyplot as plt\n",
        "from scipy import ndimage as ndi\n",
        "from skimage.morphology import watershed\n",
        "from skimage.feature import peak_local_max\n",
        "from collections import Counter\n",
        "\n",
        "image=y\n",
        "print(image.shape)\n",
        "# Now we want to separate the two objects in image\n",
        "# Generate the markers as local maxima of the distance to the background\n",
        "distance = ndi.distance_transform_edt(image)\n",
        "local_maxi = peak_local_max(distance, indices=False, footprint=np.ones((3, 3)),\n",
        "                            labels=image)\n",
        "markers = ndi.label(local_maxi)[0]\n",
        "labels = watershed(-distance, markers, mask=image)\n",
        "\n",
        "fig, axes = plt.subplots(ncols=3, figsize=(9, 3), sharex=True, sharey=True)\n",
        "ax = axes.ravel()\n",
        "ax[0].imshow(image, cmap=plt.cm.gray, interpolation='nearest')\n",
        "ax[0].set_title('Overlapping objects')\n",
        "ax[1].imshow(-distance, cmap=plt.cm.gray, interpolation='nearest')\n",
        "ax[1].set_title('Distances')\n",
        "ax[2].imshow(labels, cmap=plt.cm.nipy_spectral, interpolation='nearest')\n",
        "ax[2].set_title('Separated objects')\n",
        "\n",
        "for a in ax:\n",
        "    a.set_axis_off()                                           #here we see severe oversegmentation as each small minima is assigned its own region\n",
        "fig.tight_layout()\n",
        "plt.show()"
      ],
      "execution_count": 0,
      "outputs": [
        {
          "output_type": "stream",
          "text": [
            "(610, 340)\n"
          ],
          "name": "stdout"
        },
        {
          "output_type": "display_data",
          "data": {
            "image/png": "[encoded data removed]",
            "text/plain": [
              "<Figure size 648x216 with 3 Axes>"
            ]
          },
          "metadata": {
            "tags": []
          }
        }
      ]
    },
    {
      "cell_type": "code",
      "metadata": {
        "id": "uaFhQqvNTkhy",
        "colab_type": "code",
        "outputId": "dd9cccf3-3ab5-414a-f9e9-851f51a51a26",
        "colab": {
          "base_uri": "https://localhost:8080/",
          "height": 358
        }
      },
      "source": [
        "# MAJORITY VOTE\n",
        "print(labels.shape)\n",
        "uni=np.unique(labels)                     #generating the unique regions\n",
        "final = np.zeros((height,width))\n",
        "\n",
        "for i in uni:\n",
        "  arr=[]\n",
        "  for j in range(height-PATCH_SIZE+1):\n",
        "    for k in range(width-PATCH_SIZE+1):\n",
        "      m=int(PATCH_SIZE/2)\n",
        "      target = int(y[j+m,k+m])\n",
        "      if target == 0 :\n",
        "        continue\n",
        "      else:        \n",
        "        if(labels[j+m][k+m]==i):\n",
        "          arr.append(outputs[j+m][k+m])                 #collecting class values for a region\n",
        "  cl=np.bincount(arr).argmax()\n",
        "  for j in range(height-PATCH_SIZE+1):\n",
        "    for k in range(width-PATCH_SIZE+1):\n",
        "      m=int(PATCH_SIZE/2)\n",
        "      target = int(y[j+m,k+m])\n",
        "      if target == 0 :\n",
        "        continue\n",
        "      else:        \n",
        "        if(labels[j+m][k+m]==i):\n",
        "          final[j+m][k+m]=cl                         #assigning the most common class value to that region\n",
        "\n",
        "final_image = spectral.imshow(classes = final.astype(int),figsize =(5,5))\n",
        "total=final.shape[0]*final.shape[1]\n",
        "correct=np.sum(final==y)                 \n",
        "print ( \"CNN+watershed: \",(correct)*100.0/(total) )"
      ],
      "execution_count": 0,
      "outputs": [
        {
          "output_type": "stream",
          "text": [
            "(610, 340)\n",
            "CNN+watershed:  99.44069431051109\n"
          ],
          "name": "stdout"
        },
        {
          "output_type": "display_data",
          "data": {
            "image/png": "[encoded data removed]",
            "text/plain": [
              "<Figure size 360x360 with 1 Axes>"
            ]
          },
          "metadata": {
            "tags": []
          }
        }
      ]
    },
    {
      "cell_type": "code",
      "metadata": {
        "id": "oPsrISaT-Jes",
        "colab_type": "code",
        "outputId": "1d93bc75-309e-4dcf-b6e6-95984d246de5",
        "colab": {
          "base_uri": "https://localhost:8080/",
          "height": 358
        }
      },
      "source": [
        "# MAJORITY VOTE\n",
        "print(labels.shape)\n",
        "uni=np.unique(labels)                     #generating the unique regions\n",
        "final = np.zeros((height,width))\n",
        "\n",
        "for i in uni:\n",
        "  arr=[]\n",
        "  for j in range(height-PATCH_SIZE+1):\n",
        "    for k in range(width-PATCH_SIZE+1):\n",
        "      m=int(PATCH_SIZE/2)\n",
        "      target = int(y[j+m,k+m])\n",
        "      if target == 0 :\n",
        "        continue\n",
        "      else:        \n",
        "        if(labels[j+m][k+m]==i):\n",
        "          arr.append(gmlc_out[j+m][k+m])                 #collecting class values for a region\n",
        "  cl=np.bincount(arr).argmax()\n",
        "  for j in range(height-PATCH_SIZE+1):\n",
        "    for k in range(width-PATCH_SIZE+1):\n",
        "      m=int(PATCH_SIZE/2)\n",
        "      target = int(y[j+m,k+m])\n",
        "      if target == 0 :\n",
        "        continue\n",
        "      else:        \n",
        "        if(labels[j+m][k+m]==i):\n",
        "          final[j+m][k+m]=cl                         #assigning the most common class value to that region\n",
        "\n",
        "final_image = spectral.imshow(classes = final.astype(int),figsize =(5,5))\n",
        "total=final.shape[0]*final.shape[1]\n",
        "correct=np.sum(final==y)                 \n",
        "print ( \"gmlc+watershed: \",(correct)*100.0/(total) )"
      ],
      "execution_count": 0,
      "outputs": [
        {
          "output_type": "stream",
          "text": [
            "(610, 340)\n",
            "gmlc+watershed:  99.29315332690453\n"
          ],
          "name": "stdout"
        },
        {
          "output_type": "display_data",
          "data": {
            "image/png": "[encoded data removed]",
            "text/plain": [
              "<Figure size 360x360 with 1 Axes>"
            ]
          },
          "metadata": {
            "tags": []
          }
        }
      ]
    }
  ]
}